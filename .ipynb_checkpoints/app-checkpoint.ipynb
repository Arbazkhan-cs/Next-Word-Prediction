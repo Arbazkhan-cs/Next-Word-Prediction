{
 "cells": [
  {
   "cell_type": "markdown",
   "id": "4b4bfd08",
   "metadata": {},
   "source": [
    "## App "
   ]
  },
  {
   "cell_type": "code",
   "execution_count": 1,
   "id": "1832d14d",
   "metadata": {},
   "outputs": [],
   "source": [
    "import ipywidgets as widgets\n",
    "from IPython.display import display\n",
    "import numpy as np\n",
    "from keras.preprocessing.sequence import pad_sequences\n",
    "from keras.models import load_model\n",
    "import pickle"
   ]
  },
  {
   "cell_type": "code",
   "execution_count": 171,
   "id": "5fba24a2",
   "metadata": {},
   "outputs": [],
   "source": [
    "# Load the pre-trained model and tokenizer\n",
    "def load_model_and_tokenizer():\n",
    "    model = load_model(\"./Preprocessing_Modeling/_model_.h5\")\n",
    "\n",
    "    with open(\"./Preprocessing_Modeling/tokenizer.pkl\", \"rb\") as f:\n",
    "        tokenizer = pickle.load(f)\n",
    "\n",
    "    max_len = 340\n",
    "    return model, tokenizer, max_len\n",
    "\n",
    "model, tokenizer, max_len = load_model_and_tokenizer()"
   ]
  },
  {
   "cell_type": "code",
   "execution_count": 172,
   "id": "8dd6074d",
   "metadata": {},
   "outputs": [],
   "source": [
    "# Define generate_next_word function\n",
    "def generate_next_word(input_text, next_words):\n",
    "    generated_text = input_text\n",
    "    for _ in range(next_words):\n",
    "        seq = tokenizer.texts_to_sequences([input_text])[0]\n",
    "        seq = pad_sequences([seq], maxlen=max_len, padding=\"post\")\n",
    "        y_hat = model.predict(seq, verbose=0)\n",
    "        top_index = np.argmax(y_hat)\n",
    "        next_word = tokenizer.index_word.get(top_index, \"\")\n",
    "        if next_word:\n",
    "            input_text += \" \" + next_word\n",
    "            # Replace specific punctuation\n",
    "            next_word = next_word.replace(\"…\", \"\")\n",
    "            generated_text += \" \" + next_word\n",
    "        else:\n",
    "            break\n",
    "    return generated_text"
   ]
  },
  {
   "cell_type": "code",
   "execution_count": 173,
   "id": "b1cb6503",
   "metadata": {},
   "outputs": [],
   "source": [
    "# Create input and output widgets\n",
    "input_text_widget = widgets.Text(description='Input Text:', value='The cat')\n",
    "next_words_widget = widgets.IntSlider(description='Next Words:', min=1, max=20, value=10)\n",
    "\n",
    "# Create output widget\n",
    "output_widget = widgets.Output(layout=widgets.Layout(width='80%'))"
   ]
  },
  {
   "cell_type": "code",
   "execution_count": 174,
   "id": "4c661e95",
   "metadata": {},
   "outputs": [],
   "source": [
    "# Define function to update output\n",
    "def update_output(change):\n",
    "    with output_widget:\n",
    "        output_widget.clear_output()\n",
    "        input_text = input_text_widget.value\n",
    "        next_words = next_words_widget.value\n",
    "        generated_text = generate_next_word(input_text, next_words)\n",
    "        print(\"Generated Text:\", generated_text)\n",
    "\n",
    "# Create predict button\n",
    "predict_button = widgets.Button(description=\"Predict\", button_style='success', layout=widgets.Layout(width='35%'))"
   ]
  },
  {
   "cell_type": "code",
   "execution_count": 175,
   "id": "e6eed103",
   "metadata": {},
   "outputs": [],
   "source": [
    "# Define function to handle button click event\n",
    "def on_predict_button_click(b):\n",
    "    update_output(None)\n",
    "\n",
    "# Register button click event\n",
    "predict_button.on_click(on_predict_button_click)"
   ]
  },
  {
   "cell_type": "code",
   "execution_count": 176,
   "id": "a50ffe38",
   "metadata": {},
   "outputs": [
    {
     "data": {
      "application/vnd.jupyter.widget-view+json": {
       "model_id": "1e2f87cdadc943179226653e4abfb106",
       "version_major": 2,
       "version_minor": 0
      },
      "text/plain": [
       "VBox(children=(Label(value='Input Text:'), Text(value='The cat', description='Input Text:'), IntSlider(value=1…"
      ]
     },
     "metadata": {},
     "output_type": "display_data"
    }
   ],
   "source": [
    "# Display widgets\n",
    "display(widgets.VBox([widgets.Label(\"Input Text:\"), input_text_widget, next_words_widget, predict_button, output_widget]))"
   ]
  }
 ],
 "metadata": {
  "kernelspec": {
   "display_name": "Python 3 (ipykernel)",
   "language": "python",
   "name": "python3"
  },
  "language_info": {
   "codemirror_mode": {
    "name": "ipython",
    "version": 3
   },
   "file_extension": ".py",
   "mimetype": "text/x-python",
   "name": "python",
   "nbconvert_exporter": "python",
   "pygments_lexer": "ipython3",
   "version": "3.11.3"
  }
 },
 "nbformat": 4,
 "nbformat_minor": 5
}
